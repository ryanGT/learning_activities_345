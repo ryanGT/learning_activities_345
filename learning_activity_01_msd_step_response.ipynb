{
 "cells": [
  {
   "cell_type": "markdown",
   "id": "d97ca900-de79-4598-bffd-5d0b13c3f6e5",
   "metadata": {},
   "source": [
    "# Learning Activity 1: Step Response of a Mass/Spring/Damper System"
   ]
  },
  {
   "cell_type": "code",
   "execution_count": 1,
   "id": "b31e0b05-1212-464b-8973-b15b7d9e3313",
   "metadata": {},
   "outputs": [],
   "source": [
    "import matplotlib.pyplot as plt\n",
    "import numpy as np\n",
    "import control\n",
    "from numpy import sin, cos, tan, pi\n",
    "from control import TransferFunction as TF"
   ]
  },
  {
   "cell_type": "markdown",
   "id": "d7c50771-6e74-4499-8238-5d5f23d04519",
   "metadata": {},
   "source": [
    "**Note:** If you get an error regarding the control module, do this:"
   ]
  },
  {
   "cell_type": "code",
   "execution_count": 4,
   "id": "3b259c31-4e7e-4526-8566-e59e3da50ebb",
   "metadata": {},
   "outputs": [
    {
     "name": "stdout",
     "output_type": "stream",
     "text": [
      "Requirement already satisfied: control in /opt/homebrew/lib/python3.13/site-packages (0.10.1)\n",
      "Requirement already satisfied: numpy>=1.23 in /opt/homebrew/lib/python3.13/site-packages (from control) (2.2.5)\n",
      "Requirement already satisfied: scipy>=1.8 in /opt/homebrew/lib/python3.13/site-packages (from control) (1.14.1)\n",
      "Requirement already satisfied: matplotlib>=3.6 in /opt/homebrew/Cellar/python-matplotlib/3.10.3/libexec/lib/python3.13/site-packages (from control) (3.10.3)\n",
      "Requirement already satisfied: contourpy>=1.0.1 in /opt/homebrew/Cellar/python-matplotlib/3.10.3/libexec/lib/python3.13/site-packages (from matplotlib>=3.6->control) (1.3.2)\n",
      "Requirement already satisfied: cycler>=0.10 in /opt/homebrew/Cellar/python-matplotlib/3.10.3/libexec/lib/python3.13/site-packages (from matplotlib>=3.6->control) (0.12.1)\n",
      "Requirement already satisfied: fonttools>=4.22.0 in /opt/homebrew/Cellar/python-matplotlib/3.10.3/libexec/lib/python3.13/site-packages (from matplotlib>=3.6->control) (4.57.0)\n",
      "Requirement already satisfied: kiwisolver>=1.3.1 in /opt/homebrew/Cellar/python-matplotlib/3.10.3/libexec/lib/python3.13/site-packages (from matplotlib>=3.6->control) (1.4.8)\n",
      "Requirement already satisfied: packaging>=20.0 in /opt/homebrew/Cellar/jupyterlab/4.4.2/libexec/lib/python3.13/site-packages (from matplotlib>=3.6->control) (25.0)\n",
      "Requirement already satisfied: pillow>=8 in /opt/homebrew/lib/python3.13/site-packages (from matplotlib>=3.6->control) (11.2.1)\n",
      "Requirement already satisfied: pyparsing>=2.3.1 in /opt/homebrew/Cellar/python-matplotlib/3.10.3/libexec/lib/python3.13/site-packages (from matplotlib>=3.6->control) (3.2.3)\n",
      "Requirement already satisfied: python-dateutil>=2.7 in /opt/homebrew/Cellar/jupyterlab/4.4.2/libexec/lib/python3.13/site-packages (from matplotlib>=3.6->control) (2.9.0.post0)\n",
      "Requirement already satisfied: six>=1.5 in /opt/homebrew/Cellar/jupyterlab/4.4.2/libexec/lib/python3.13/site-packages (from python-dateutil>=2.7->matplotlib>=3.6->control) (1.17.0)\n",
      "\n",
      "\u001b[1m[\u001b[0m\u001b[34;49mnotice\u001b[0m\u001b[1;39;49m]\u001b[0m\u001b[39;49m A new release of pip is available: \u001b[0m\u001b[31;49m24.3.1\u001b[0m\u001b[39;49m -> \u001b[0m\u001b[32;49m25.2\u001b[0m\n",
      "\u001b[1m[\u001b[0m\u001b[34;49mnotice\u001b[0m\u001b[1;39;49m]\u001b[0m\u001b[39;49m To update, run: \u001b[0m\u001b[32;49m/opt/homebrew/Cellar/jupyterlab/4.4.2/libexec/bin/python -m pip install --upgrade pip\u001b[0m\n",
      "Note: you may need to restart the kernel to use updated packages.\n"
     ]
    }
   ],
   "source": [
    "pip install control"
   ]
  },
  {
   "cell_type": "markdown",
   "id": "b937aa44-1a56-4670-a032-9cdf726e45ea",
   "metadata": {},
   "source": [
    "<img src=\"https://faculty.gvsu.edu/kraussry/345_images/lecture/msd_systems/forced_damped_vibration.png\" width=400px>"
   ]
  },
  {
   "cell_type": "markdown",
   "id": "9cd7bdf7-3c93-47b6-8d44-fa8121ea674f",
   "metadata": {},
   "source": [
    "## Problem Statement\n",
    "\n",
    "Find the step response of the mass/spring/damper system shown above given the parameters:"
   ]
  },
  {
   "cell_type": "code",
   "execution_count": 5,
   "id": "a7a64b53-a5be-4e30-9fb9-fec17387a35e",
   "metadata": {},
   "outputs": [],
   "source": [
    "m = 0.5\n",
    "k = 50\n",
    "b = 0.1"
   ]
  },
  {
   "cell_type": "markdown",
   "id": "c5d41346-f15d-44b8-9f0b-28f6d5ac2a33",
   "metadata": {},
   "source": [
    "From FBD, Newton's second law, and Laplace (in lecture):\n",
    "\n",
    "$$G(s) = \\frac{1}{ms^2+bs+k}$$"
   ]
  },
  {
   "cell_type": "code",
   "execution_count": 6,
   "id": "34a61e60-ae59-4a7e-a8ee-957288217742",
   "metadata": {},
   "outputs": [],
   "source": [
    "num = 1\n",
    "den = [m,b,k]"
   ]
  },
  {
   "cell_type": "code",
   "execution_count": 7,
   "id": "0a92e2fd-195a-47d2-a625-b9b4b74330b5",
   "metadata": {},
   "outputs": [
    {
     "data": {
      "text/latex": [
       "$$\\frac{1}{0.5 s^2 + 0.1 s + 50}$$"
      ],
      "text/plain": [
       "TransferFunction(array([1]), array([ 0.5,  0.1, 50. ]))"
      ]
     },
     "execution_count": 7,
     "metadata": {},
     "output_type": "execute_result"
    }
   ],
   "source": [
    "G = control.TransferFunction(num, den)\n",
    "G"
   ]
  },
  {
   "cell_type": "markdown",
   "id": "2877859c-1929-4d88-90bb-dc8ca0e70e02",
   "metadata": {},
   "source": [
    "**Hint:** now use `control.step_response` to find the step response of the MSD system"
   ]
  },
  {
   "cell_type": "code",
   "execution_count": null,
   "id": "b245b3de-ee16-403d-807c-7e30b5351398",
   "metadata": {},
   "outputs": [],
   "source": []
  }
 ],
 "metadata": {
  "kernelspec": {
   "display_name": "Python 3 (ipykernel)",
   "language": "python",
   "name": "python3"
  },
  "language_info": {
   "codemirror_mode": {
    "name": "ipython",
    "version": 3
   },
   "file_extension": ".py",
   "mimetype": "text/x-python",
   "name": "python",
   "nbconvert_exporter": "python",
   "pygments_lexer": "ipython3",
   "version": "3.13.3"
  }
 },
 "nbformat": 4,
 "nbformat_minor": 5
}
