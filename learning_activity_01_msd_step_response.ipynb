{
 "cells": [
  {
   "cell_type": "markdown",
   "id": "d97ca900-de79-4598-bffd-5d0b13c3f6e5",
   "metadata": {},
   "source": [
    "# Learning Activity 1: Step Response of a Mass/Spring/Damper System"
   ]
  },
  {
   "cell_type": "code",
   "execution_count": 1,
   "id": "b31e0b05-1212-464b-8973-b15b7d9e3313",
   "metadata": {},
   "outputs": [],
   "source": [
    "%matplotlib inline\n",
    "import matplotlib.pyplot as plt\n",
    "import numpy as np\n",
    "import control\n",
    "from numpy import sin, cos, tan, pi\n",
    "from control import TransferFunction as TF"
   ]
  },
  {
   "cell_type": "markdown",
   "id": "b937aa44-1a56-4670-a032-9cdf726e45ea",
   "metadata": {},
   "source": [
    "<img src=\"https://faculty.gvsu.edu/kraussry/345_images/lecture/msd_systems/forced_damped_vibration.png\" width=400px>"
   ]
  },
  {
   "cell_type": "markdown",
   "id": "9cd7bdf7-3c93-47b6-8d44-fa8121ea674f",
   "metadata": {},
   "source": [
    "## Problem Statement\n",
    "\n",
    "Find the step response of the mass/spring/damper system shown above given the parameters:"
   ]
  },
  {
   "cell_type": "code",
   "execution_count": 2,
   "id": "a7a64b53-a5be-4e30-9fb9-fec17387a35e",
   "metadata": {},
   "outputs": [],
   "source": [
    "m = 0.5\n",
    "k = 50\n",
    "b = 0.1"
   ]
  },
  {
   "cell_type": "code",
   "execution_count": null,
   "id": "0a92e2fd-195a-47d2-a625-b9b4b74330b5",
   "metadata": {},
   "outputs": [],
   "source": []
  }
 ],
 "metadata": {
  "kernelspec": {
   "display_name": "Python 3 (ipykernel)",
   "language": "python",
   "name": "python3"
  },
  "language_info": {
   "codemirror_mode": {
    "name": "ipython",
    "version": 3
   },
   "file_extension": ".py",
   "mimetype": "text/x-python",
   "name": "python",
   "nbconvert_exporter": "python",
   "pygments_lexer": "ipython3",
   "version": "3.13.3"
  }
 },
 "nbformat": 4,
 "nbformat_minor": 5
}
