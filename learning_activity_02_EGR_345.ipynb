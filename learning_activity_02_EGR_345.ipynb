{
 "cells": [
  {
   "cell_type": "markdown",
   "id": "fb2960c8-b763-44be-b7ef-37fb469e0186",
   "metadata": {},
   "source": [
    "# Learning Activity 2: Impulse and Step Response"
   ]
  },
  {
   "cell_type": "code",
   "execution_count": 1,
   "id": "b0df3ae8-eb5e-4af8-80ea-486204547fbe",
   "metadata": {},
   "outputs": [],
   "source": [
    "%matplotlib inline\n",
    "import matplotlib.pyplot as plt\n",
    "import numpy as np\n",
    "import control\n",
    "from numpy import sin, cos, tan, pi\n",
    "from control import TransferFunction as TF"
   ]
  },
  {
   "cell_type": "markdown",
   "id": "3eec3cea-a8ab-49a9-b448-93b3707aa2af",
   "metadata": {},
   "source": [
    "## Problem Statement"
   ]
  },
  {
   "cell_type": "markdown",
   "id": "a006faab-ee17-41c3-b65b-98e8918179e5",
   "metadata": {},
   "source": [
    "Given the TF $G(s)$:\n",
    "\n",
    "$$G(s) = \\frac{1}{s^2+3s+2}$$\n",
    "\n",
    "- find the impulse and step response for $G(s)$ by hand and with Python \n",
    "\t- overlay them on the same graph"
   ]
  },
  {
   "cell_type": "code",
   "execution_count": 2,
   "id": "4462311a-3739-4f26-8d82-8e5f6289e8fe",
   "metadata": {},
   "outputs": [
    {
     "data": {
      "text/plain": [
       "array([-2., -1.])"
      ]
     },
     "execution_count": 2,
     "metadata": {},
     "output_type": "execute_result"
    }
   ],
   "source": [
    "np.roots([1,3,2])"
   ]
  },
  {
   "cell_type": "code",
   "execution_count": 3,
   "id": "04c3f438-c883-463d-a0ec-1e50c214c4a2",
   "metadata": {},
   "outputs": [],
   "source": [
    "t = np.arange(0,10,.01)"
   ]
  },
  {
   "cell_type": "code",
   "execution_count": 4,
   "id": "8808cae1-da59-44a3-a25d-8973893b939d",
   "metadata": {},
   "outputs": [
    {
     "data": {
      "text/latex": [
       "$$\\frac{1}{s^2 + 3 s + 2}$$"
      ],
      "text/plain": [
       "TransferFunction(array([1]), array([1, 3, 2]))"
      ]
     },
     "execution_count": 4,
     "metadata": {},
     "output_type": "execute_result"
    }
   ],
   "source": [
    "G = TF(1,[1,3,2])\n",
    "G"
   ]
  },
  {
   "cell_type": "markdown",
   "id": "3610e464-1699-4144-8c4b-efac8ee001e8",
   "metadata": {},
   "source": [
    "## Impulse Response"
   ]
  },
  {
   "cell_type": "markdown",
   "id": "02fe8806-90a9-4777-84de-ac0e375cbaa9",
   "metadata": {},
   "source": [
    "See the help for `control.impulse_response`"
   ]
  },
  {
   "cell_type": "code",
   "execution_count": null,
   "id": "f8c8d13d-544e-4e97-ab2c-a88bf53fb1fe",
   "metadata": {},
   "outputs": [],
   "source": []
  },
  {
   "cell_type": "markdown",
   "id": "8c410a1a-7aea-4192-b38e-371461314422",
   "metadata": {},
   "source": [
    "## Step Response"
   ]
  },
  {
   "cell_type": "markdown",
   "id": "189daf2c-9f21-453a-8639-37f835b85b31",
   "metadata": {},
   "source": [
    "See the help for `control.step_response`"
   ]
  },
  {
   "cell_type": "code",
   "execution_count": null,
   "id": "6d06da89-7c12-4e16-88c7-b1bdf88d378f",
   "metadata": {},
   "outputs": [],
   "source": []
  }
 ],
 "metadata": {
  "kernelspec": {
   "display_name": "Python 3 (ipykernel)",
   "language": "python",
   "name": "python3"
  },
  "language_info": {
   "codemirror_mode": {
    "name": "ipython",
    "version": 3
   },
   "file_extension": ".py",
   "mimetype": "text/x-python",
   "name": "python",
   "nbconvert_exporter": "python",
   "pygments_lexer": "ipython3",
   "version": "3.13.3"
  }
 },
 "nbformat": 4,
 "nbformat_minor": 5
}
