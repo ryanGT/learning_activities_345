{
 "cells": [
  {
   "cell_type": "markdown",
   "id": "fb2960c8-b763-44be-b7ef-37fb469e0186",
   "metadata": {},
   "source": [
    "# Learning Activity 3: Impulse and Step Response for Complex Roots"
   ]
  },
  {
   "cell_type": "code",
   "execution_count": 1,
   "id": "b0df3ae8-eb5e-4af8-80ea-486204547fbe",
   "metadata": {},
   "outputs": [],
   "source": [
    "%matplotlib inline\n",
    "import matplotlib.pyplot as plt\n",
    "import numpy as np\n",
    "import control\n",
    "from numpy import sin, cos, tan, pi\n",
    "from control import TransferFunction as TF"
   ]
  },
  {
   "cell_type": "markdown",
   "id": "3eec3cea-a8ab-49a9-b448-93b3707aa2af",
   "metadata": {},
   "source": [
    "## Problem Statement"
   ]
  },
  {
   "cell_type": "markdown",
   "id": "a006faab-ee17-41c3-b65b-98e8918179e5",
   "metadata": {},
   "source": [
    "Given the TF $G(s)$:\n",
    "\n",
    "$$G(s) = \\frac{25}{s^2+s+25}$$\n",
    "\n",
    "- find the impulse and step response for $G(s)$ by hand and with Python \n",
    "- overlay the by hand and Python solutions\n",
    "- generate two graphs: one for the impulse response and one for the step response "
   ]
  },
  {
   "cell_type": "markdown",
   "id": "3610e464-1699-4144-8c4b-efac8ee001e8",
   "metadata": {},
   "source": [
    "## Impulse Response"
   ]
  },
  {
   "cell_type": "code",
   "execution_count": null,
   "id": "41f744f1-cac7-405f-8ff3-8e103906c907",
   "metadata": {},
   "outputs": [],
   "source": []
  },
  {
   "cell_type": "markdown",
   "id": "5be8a186-4b60-4985-bb09-ad5b4742b731",
   "metadata": {},
   "source": [
    "## Step Response"
   ]
  },
  {
   "cell_type": "code",
   "execution_count": null,
   "id": "cffa3e37-8ad4-4db8-a352-7bd100f33f6a",
   "metadata": {},
   "outputs": [],
   "source": []
  }
 ],
 "metadata": {
  "kernelspec": {
   "display_name": "Python 3 (ipykernel)",
   "language": "python",
   "name": "python3"
  },
  "language_info": {
   "codemirror_mode": {
    "name": "ipython",
    "version": 3
   },
   "file_extension": ".py",
   "mimetype": "text/x-python",
   "name": "python",
   "nbconvert_exporter": "python",
   "pygments_lexer": "ipython3",
   "version": "3.13.3"
  }
 },
 "nbformat": 4,
 "nbformat_minor": 5
}
