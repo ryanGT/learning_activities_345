{
 "cells": [
  {
   "cell_type": "markdown",
   "id": "cae6cc9d-c1e9-42cf-a343-fc06efdcb3c0",
   "metadata": {},
   "source": [
    "# Learning Activity 4"
   ]
  },
  {
   "cell_type": "code",
   "execution_count": 1,
   "id": "a6794d4d-70a6-4674-a38e-442baa047f79",
   "metadata": {},
   "outputs": [],
   "source": [
    "import matplotlib.pyplot as plt\n",
    "import numpy as np\n",
    "import control\n",
    "from numpy import sin, cos, tan, pi\n",
    "from control import TransferFunction as TF"
   ]
  },
  {
   "cell_type": "markdown",
   "id": "8df6bdf5-4bbf-43fd-8f31-abaabcf0a0fb",
   "metadata": {},
   "source": [
    "## LA 4 - Part 1: MSD Step Response"
   ]
  },
  {
   "cell_type": "markdown",
   "id": "550c7000-c2ce-4b22-8c90-2b04c19705b6",
   "metadata": {},
   "source": [
    "Copy and paste your code from LA 1 and then overlay the step response \"by hand\" with your Python `control.step_response` graph."
   ]
  },
  {
   "cell_type": "markdown",
   "id": "2b144ab9-003c-4a61-817f-6b757a497f9e",
   "metadata": {},
   "source": [
    "<img src=\"https://faculty.gvsu.edu/kraussry/345_images/lecture/msd_systems/forced_damped_vibration.png\" width=400px>"
   ]
  },
  {
   "cell_type": "markdown",
   "id": "bf616e73-2d89-4668-a35a-2b1baef870bc",
   "metadata": {},
   "source": [
    "Find the step response of the mass/spring/damper system shown above given the parameters:"
   ]
  },
  {
   "cell_type": "code",
   "execution_count": 5,
   "id": "3c96c7fa-2594-4c8a-949a-fc7b6006d730",
   "metadata": {},
   "outputs": [],
   "source": [
    "m = 0.5\n",
    "k = 50\n",
    "b = 0.1"
   ]
  },
  {
   "cell_type": "markdown",
   "id": "1d00638d-72a5-4ae7-b37c-942eb015100d",
   "metadata": {},
   "source": [
    "## LA 4 - Part 2: the Effects of $\\zeta$\n",
    "\n",
    "Given the transfer function\n",
    "\n",
    "$$G(s) = \\frac{1/m}{s^2+2\\zeta\\omega_ns+\\omega_n^2}$$\n",
    "\n",
    "and assuming $m = 1$ and $\\omega_n = 5$, invsetigate the effects of $\\zeta$ on the step response by overlaying step response plots with different values of $\\zeta$ between 0 and 1"
   ]
  },
  {
   "cell_type": "code",
   "execution_count": null,
   "id": "10504bcf-dea8-42e1-82b6-d2e2157a17e2",
   "metadata": {},
   "outputs": [],
   "source": []
  }
 ],
 "metadata": {
  "kernelspec": {
   "display_name": "Python 3 (ipykernel)",
   "language": "python",
   "name": "python3"
  },
  "language_info": {
   "codemirror_mode": {
    "name": "ipython",
    "version": 3
   },
   "file_extension": ".py",
   "mimetype": "text/x-python",
   "name": "python",
   "nbconvert_exporter": "python",
   "pygments_lexer": "ipython3",
   "version": "3.13.3"
  }
 },
 "nbformat": 4,
 "nbformat_minor": 5
}
