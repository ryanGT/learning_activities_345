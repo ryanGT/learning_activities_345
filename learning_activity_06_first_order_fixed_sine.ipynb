{
 "cells": [
  {
   "cell_type": "markdown",
   "id": "11aeafc3-0419-4568-887e-2c4847389533",
   "metadata": {},
   "source": [
    "# Learning Activity 6"
   ]
  },
  {
   "cell_type": "code",
   "execution_count": 1,
   "id": "f1c98082-8d5e-45f8-b120-092c768648d1",
   "metadata": {},
   "outputs": [],
   "source": [
    "%matplotlib inline\n",
    "import matplotlib.pyplot as plt\n",
    "import numpy as np\n",
    "import control\n",
    "from numpy import sin, cos, tan, pi\n",
    "from control import TransferFunction as TF"
   ]
  },
  {
   "cell_type": "code",
   "execution_count": 10,
   "id": "331fd153-8804-4326-9c02-84745fddb177",
   "metadata": {},
   "outputs": [],
   "source": [
    "plt.rcParams['font.size'] = 14"
   ]
  },
  {
   "cell_type": "markdown",
   "id": "be446b16-1ba3-410a-8497-df6f7974731c",
   "metadata": {},
   "source": [
    "## Problem Statement"
   ]
  },
  {
   "cell_type": "markdown",
   "id": "5d98f695-c00a-430c-8d51-2bdee4a0c465",
   "metadata": {},
   "source": [
    "Given the transfer function\n",
    "\n",
    "$$G(s) = \\frac{3}{s+3}$$\n",
    "\n",
    "and the input\n",
    "\n",
    "$$u(t) = \\sin(7t)$$\n",
    "\n",
    "compare the complete sinusoidal response from `control.forced_response` to the steady-state $y_{ss}(t)$, \n",
    "\n",
    "$$y_{ss}(t) = M \\sin(\\omega t + \\phi)$$\n",
    "\n",
    "where\n",
    "\n",
    "$$M = \\|G(j \\omega)\\|$$\n",
    "\n",
    "$$\\phi = \\angle (G(jv \\omega)$$"
   ]
  },
  {
   "cell_type": "code",
   "execution_count": 11,
   "id": "427519d1-b76f-4dd0-9de7-08e74dced150",
   "metadata": {},
   "outputs": [
    {
     "data": {
      "text/latex": [
       "$$\\frac{3}{s + 3}$$"
      ],
      "text/plain": [
       "TransferFunction(array([3]), array([1, 3]))"
      ]
     },
     "execution_count": 11,
     "metadata": {},
     "output_type": "execute_result"
    }
   ],
   "source": [
    "G = TF(3,[1,3])\n",
    "G"
   ]
  },
  {
   "cell_type": "markdown",
   "id": "bf1a127a-8fd9-4430-a867-0873dcd41787",
   "metadata": {},
   "source": [
    "### How do I tell python to substitute $s = 7j$ into $G(s)$?"
   ]
  },
  {
   "cell_type": "code",
   "execution_count": 29,
   "id": "aaab53ec-9216-408d-918f-9e980296e5f4",
   "metadata": {},
   "outputs": [],
   "source": [
    "w = 7"
   ]
  },
  {
   "cell_type": "code",
   "execution_count": 30,
   "id": "f5efa680-aca9-43ac-9af5-6902be4bc27e",
   "metadata": {},
   "outputs": [
    {
     "data": {
      "text/plain": [
       "np.complex128(0.15517241379310345-0.36206896551724144j)"
      ]
     },
     "execution_count": 30,
     "metadata": {},
     "output_type": "execute_result"
    }
   ],
   "source": [
    "Gjw = G(1j*w)\n",
    "Gjw"
   ]
  },
  {
   "cell_type": "code",
   "execution_count": 31,
   "id": "77ac36a9-3bd5-45d6-9636-bd81cee342a0",
   "metadata": {},
   "outputs": [
    {
     "data": {
      "text/plain": [
       "(0.15517241379310345-0.36206896551724144j)"
      ]
     },
     "execution_count": 31,
     "metadata": {},
     "output_type": "execute_result"
    }
   ],
   "source": [
    "3/(7j+3)"
   ]
  },
  {
   "cell_type": "markdown",
   "id": "c839ee20-bc9f-478b-9cf0-5cea297dda23",
   "metadata": {},
   "source": [
    "### Note\n",
    "\n",
    "These functions may help:"
   ]
  },
  {
   "cell_type": "code",
   "execution_count": 32,
   "id": "e2f5e1d3-c605-403d-824b-d3526db744de",
   "metadata": {},
   "outputs": [
    {
     "data": {
      "text/plain": [
       "<ufunc 'absolute'>"
      ]
     },
     "execution_count": 32,
     "metadata": {},
     "output_type": "execute_result"
    }
   ],
   "source": [
    "np.abs"
   ]
  },
  {
   "cell_type": "code",
   "execution_count": 33,
   "id": "739b1b8d-850d-4329-bd75-b7347a2b04c5",
   "metadata": {},
   "outputs": [
    {
     "data": {
      "text/plain": [
       "<function angle at 0x107092ab0>"
      ]
     },
     "execution_count": 33,
     "metadata": {},
     "output_type": "execute_result"
    }
   ],
   "source": [
    "np.angle"
   ]
  },
  {
   "cell_type": "code",
   "execution_count": null,
   "id": "89e41062-ea8f-4841-a604-cb11fbc12f83",
   "metadata": {},
   "outputs": [],
   "source": []
  }
 ],
 "metadata": {
  "kernelspec": {
   "display_name": "Python 3 (ipykernel)",
   "language": "python",
   "name": "python3"
  },
  "language_info": {
   "codemirror_mode": {
    "name": "ipython",
    "version": 3
   },
   "file_extension": ".py",
   "mimetype": "text/x-python",
   "name": "python",
   "nbconvert_exporter": "python",
   "pygments_lexer": "ipython3",
   "version": "3.13.3"
  }
 },
 "nbformat": 4,
 "nbformat_minor": 5
}
